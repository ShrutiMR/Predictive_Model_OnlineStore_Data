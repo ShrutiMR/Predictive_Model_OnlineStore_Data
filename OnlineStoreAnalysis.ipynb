{
 "cells": [
  {
   "cell_type": "code",
   "execution_count": 1,
   "metadata": {},
   "outputs": [],
   "source": [
    "import numpy as np\n",
    "import pandas as pd\n",
    "import matplotlib.pyplot as plt\n",
    "import seaborn as sns\n",
    "from datetime import datetime, timedelta"
   ]
  },
  {
   "cell_type": "code",
   "execution_count": 2,
   "metadata": {},
   "outputs": [],
   "source": [
    "from sklearn.model_selection import train_test_split, GridSearchCV\n",
    "from sklearn.ensemble import RandomForestRegressor, GradientBoostingRegressor\n",
    "from sklearn.model_selection import cross_val_score, KFold\n",
    "from sklearn.metrics import mean_squared_error, r2_score\n",
    "from sklearn import linear_model"
   ]
  },
  {
   "cell_type": "code",
   "execution_count": 6,
   "metadata": {},
   "outputs": [
    {
     "data": {
      "text/html": [
       "<div>\n",
       "<style scoped>\n",
       "    .dataframe tbody tr th:only-of-type {\n",
       "        vertical-align: middle;\n",
       "    }\n",
       "\n",
       "    .dataframe tbody tr th {\n",
       "        vertical-align: top;\n",
       "    }\n",
       "\n",
       "    .dataframe thead th {\n",
       "        text-align: right;\n",
       "    }\n",
       "</style>\n",
       "<table border=\"1\" class=\"dataframe\">\n",
       "  <thead>\n",
       "    <tr style=\"text-align: right;\">\n",
       "      <th></th>\n",
       "      <th>InvoiceNo</th>\n",
       "      <th>StockCode</th>\n",
       "      <th>Description</th>\n",
       "      <th>Quantity</th>\n",
       "      <th>InvoiceDate</th>\n",
       "      <th>UnitPrice</th>\n",
       "      <th>CustomerID</th>\n",
       "      <th>Country</th>\n",
       "    </tr>\n",
       "  </thead>\n",
       "  <tbody>\n",
       "    <tr>\n",
       "      <th>0</th>\n",
       "      <td>536365</td>\n",
       "      <td>85123A</td>\n",
       "      <td>WHITE HANGING HEART T-LIGHT HOLDER</td>\n",
       "      <td>6</td>\n",
       "      <td>2010-12-01 08:26:00</td>\n",
       "      <td>2.55</td>\n",
       "      <td>17850.0</td>\n",
       "      <td>United Kingdom</td>\n",
       "    </tr>\n",
       "    <tr>\n",
       "      <th>1</th>\n",
       "      <td>536365</td>\n",
       "      <td>71053</td>\n",
       "      <td>WHITE METAL LANTERN</td>\n",
       "      <td>6</td>\n",
       "      <td>2010-12-01 08:26:00</td>\n",
       "      <td>3.39</td>\n",
       "      <td>17850.0</td>\n",
       "      <td>United Kingdom</td>\n",
       "    </tr>\n",
       "    <tr>\n",
       "      <th>2</th>\n",
       "      <td>536365</td>\n",
       "      <td>84406B</td>\n",
       "      <td>CREAM CUPID HEARTS COAT HANGER</td>\n",
       "      <td>8</td>\n",
       "      <td>2010-12-01 08:26:00</td>\n",
       "      <td>2.75</td>\n",
       "      <td>17850.0</td>\n",
       "      <td>United Kingdom</td>\n",
       "    </tr>\n",
       "    <tr>\n",
       "      <th>3</th>\n",
       "      <td>536365</td>\n",
       "      <td>84029G</td>\n",
       "      <td>KNITTED UNION FLAG HOT WATER BOTTLE</td>\n",
       "      <td>6</td>\n",
       "      <td>2010-12-01 08:26:00</td>\n",
       "      <td>3.39</td>\n",
       "      <td>17850.0</td>\n",
       "      <td>United Kingdom</td>\n",
       "    </tr>\n",
       "    <tr>\n",
       "      <th>4</th>\n",
       "      <td>536365</td>\n",
       "      <td>84029E</td>\n",
       "      <td>RED WOOLLY HOTTIE WHITE HEART.</td>\n",
       "      <td>6</td>\n",
       "      <td>2010-12-01 08:26:00</td>\n",
       "      <td>3.39</td>\n",
       "      <td>17850.0</td>\n",
       "      <td>United Kingdom</td>\n",
       "    </tr>\n",
       "  </tbody>\n",
       "</table>\n",
       "</div>"
      ],
      "text/plain": [
       "  InvoiceNo StockCode                          Description  Quantity  \\\n",
       "0    536365    85123A   WHITE HANGING HEART T-LIGHT HOLDER         6   \n",
       "1    536365     71053                  WHITE METAL LANTERN         6   \n",
       "2    536365    84406B       CREAM CUPID HEARTS COAT HANGER         8   \n",
       "3    536365    84029G  KNITTED UNION FLAG HOT WATER BOTTLE         6   \n",
       "4    536365    84029E       RED WOOLLY HOTTIE WHITE HEART.         6   \n",
       "\n",
       "          InvoiceDate  UnitPrice  CustomerID         Country  \n",
       "0 2010-12-01 08:26:00       2.55     17850.0  United Kingdom  \n",
       "1 2010-12-01 08:26:00       3.39     17850.0  United Kingdom  \n",
       "2 2010-12-01 08:26:00       2.75     17850.0  United Kingdom  \n",
       "3 2010-12-01 08:26:00       3.39     17850.0  United Kingdom  \n",
       "4 2010-12-01 08:26:00       3.39     17850.0  United Kingdom  "
      ]
     },
     "execution_count": 6,
     "metadata": {},
     "output_type": "execute_result"
    }
   ],
   "source": [
    "df = pd.read_excel(\"./Data/OnlineRetailData.xlsx\")\n",
    "df.head()"
   ]
  },
  {
   "cell_type": "code",
   "execution_count": 7,
   "metadata": {},
   "outputs": [],
   "source": [
    "# data['InvoiceDate'] = pd.to_datetime(data['InvoiceDate'])\n",
    "df['Year'] = df['InvoiceDate'].dt.year\n",
    "df['Month'] = df['InvoiceDate'].dt.month\n",
    "df['Day'] = df['InvoiceDate'].dt.day\n",
    "df['Hour'] = df['InvoiceDate'].dt.hour\n",
    "df['Minute'] = df['InvoiceDate'].dt.minute\n",
    "df['Second'] = df['InvoiceDate'].dt.second"
   ]
  },
  {
   "cell_type": "code",
   "execution_count": 8,
   "metadata": {},
   "outputs": [],
   "source": [
    "df.dropna(inplace=True)"
   ]
  },
  {
   "cell_type": "code",
   "execution_count": 9,
   "metadata": {},
   "outputs": [
    {
     "data": {
      "text/plain": [
       "<AxesSubplot:xlabel='Quantity'>"
      ]
     },
     "execution_count": 9,
     "metadata": {},
     "output_type": "execute_result"
    },
    {
     "data": {
      "image/png": "[encoded data removed]",
      "text/plain": [
       "<Figure size 432x288 with 1 Axes>"
      ]
     },
     "metadata": {
      "needs_background": "light"
     },
     "output_type": "display_data"
    }
   ],
   "source": [
    "sns.boxplot(x=df['Quantity'])"
   ]
  },
  {
   "cell_type": "code",
   "execution_count": 10,
   "metadata": {},
   "outputs": [
    {
     "data": {
      "text/plain": [
       "Int64Index([     9,     31,     44,     46,     65,     82,     83,     96,\n",
       "               101,    102,\n",
       "            ...\n",
       "            541746, 541747, 541751, 541812, 541833, 541835, 541865, 541866,\n",
       "            541867, 541868],\n",
       "           dtype='int64', length=26682)"
      ]
     },
     "execution_count": 10,
     "metadata": {},
     "output_type": "execute_result"
    }
   ],
   "source": [
    "Q1 = df['Quantity'].quantile(0.25)\n",
    "Q3 = df['Quantity'].quantile(0.75)\n",
    "IQR = Q3 - Q1\n",
    "\n",
    "lower_bound = Q1 - 1.5 * IQR\n",
    "upper_bound = Q3 + 1.5 * IQR\n",
    "\n",
    "outliers = (df['Quantity'] < lower_bound) | (df['Quantity'] > upper_bound)\n",
    "outlier_indices = df[outliers].index\n",
    "outlier_indices"
   ]
  },
  {
   "cell_type": "code",
   "execution_count": 7,
   "metadata": {},
   "outputs": [],
   "source": [
    "df = df.drop(outlier_indices)"
   ]
  },
  {
   "cell_type": "code",
   "execution_count": 8,
   "metadata": {},
   "outputs": [
    {
     "data": {
      "text/plain": [
       "<AxesSubplot:xlabel='Quantity'>"
      ]
     },
     "execution_count": 8,
     "metadata": {},
     "output_type": "execute_result"
    },
    {
     "data": {
      "image/png": "[encoded data removed]",
      "text/plain": [
       "<Figure size 432x288 with 1 Axes>"
      ]
     },
     "metadata": {
      "needs_background": "light"
     },
     "output_type": "display_data"
    }
   ],
   "source": [
    "sns.boxplot(x=df['Quantity'])"
   ]
  },
  {
   "cell_type": "code",
   "execution_count": 11,
   "metadata": {},
   "outputs": [
    {
     "ename": "KeyboardInterrupt",
     "evalue": "",
     "output_type": "error",
     "traceback": [
      "\u001b[1;31m---------------------------------------------------------------------------\u001b[0m",
      "\u001b[1;31mKeyboardInterrupt\u001b[0m                         Traceback (most recent call last)",
      "\u001b[1;32mc:\\Users\\shrut\\OneDrive\\Desktop\\Predictive_Model_OnlineStore_Data\\OnlineStoreAnalysis.ipynb Cell 10\u001b[0m line \u001b[0;36m<cell line: 2>\u001b[1;34m()\u001b[0m\n\u001b[0;32m      <a href='vscode-notebook-cell:/c%3A/Users/shrut/OneDrive/Desktop/Predictive_Model_OnlineStore_Data/OnlineStoreAnalysis.ipynb#X12sZmlsZQ%3D%3D?line=0'>1</a>\u001b[0m plt\u001b[39m.\u001b[39mfigure(figsize\u001b[39m=\u001b[39m(\u001b[39m8\u001b[39m, \u001b[39m6\u001b[39m))\n\u001b[1;32m----> <a href='vscode-notebook-cell:/c%3A/Users/shrut/OneDrive/Desktop/Predictive_Model_OnlineStore_Data/OnlineStoreAnalysis.ipynb#X12sZmlsZQ%3D%3D?line=1'>2</a>\u001b[0m sns\u001b[39m.\u001b[39;49mhistplot(df[\u001b[39m'\u001b[39;49m\u001b[39mQuantity\u001b[39;49m\u001b[39m'\u001b[39;49m], kde\u001b[39m=\u001b[39;49m\u001b[39mTrue\u001b[39;49;00m)\n\u001b[0;32m      <a href='vscode-notebook-cell:/c%3A/Users/shrut/OneDrive/Desktop/Predictive_Model_OnlineStore_Data/OnlineStoreAnalysis.ipynb#X12sZmlsZQ%3D%3D?line=2'>3</a>\u001b[0m plt\u001b[39m.\u001b[39mtitle(\u001b[39m'\u001b[39m\u001b[39mDistribution of Quantity\u001b[39m\u001b[39m'\u001b[39m)\n\u001b[0;32m      <a href='vscode-notebook-cell:/c%3A/Users/shrut/OneDrive/Desktop/Predictive_Model_OnlineStore_Data/OnlineStoreAnalysis.ipynb#X12sZmlsZQ%3D%3D?line=3'>4</a>\u001b[0m plt\u001b[39m.\u001b[39mxlabel(\u001b[39m'\u001b[39m\u001b[39mQuantity\u001b[39m\u001b[39m'\u001b[39m)\n",
      "File \u001b[1;32mc:\\Users\\shrut\\AppData\\Local\\Programs\\Python\\Python38\\lib\\site-packages\\seaborn\\distributions.py:1462\u001b[0m, in \u001b[0;36mhistplot\u001b[1;34m(data, x, y, hue, weights, stat, bins, binwidth, binrange, discrete, cumulative, common_bins, common_norm, multiple, element, fill, shrink, kde, kde_kws, line_kws, thresh, pthresh, pmax, cbar, cbar_ax, cbar_kws, palette, hue_order, hue_norm, color, log_scale, legend, ax, **kwargs)\u001b[0m\n\u001b[0;32m   1451\u001b[0m estimate_kws \u001b[39m=\u001b[39m \u001b[39mdict\u001b[39m(\n\u001b[0;32m   1452\u001b[0m     stat\u001b[39m=\u001b[39mstat,\n\u001b[0;32m   1453\u001b[0m     bins\u001b[39m=\u001b[39mbins,\n\u001b[1;32m   (...)\u001b[0m\n\u001b[0;32m   1457\u001b[0m     cumulative\u001b[39m=\u001b[39mcumulative,\n\u001b[0;32m   1458\u001b[0m )\n\u001b[0;32m   1460\u001b[0m \u001b[39mif\u001b[39;00m p\u001b[39m.\u001b[39munivariate:\n\u001b[1;32m-> 1462\u001b[0m     p\u001b[39m.\u001b[39;49mplot_univariate_histogram(\n\u001b[0;32m   1463\u001b[0m         multiple\u001b[39m=\u001b[39;49mmultiple,\n\u001b[0;32m   1464\u001b[0m         element\u001b[39m=\u001b[39;49melement,\n\u001b[0;32m   1465\u001b[0m         fill\u001b[39m=\u001b[39;49mfill,\n\u001b[0;32m   1466\u001b[0m         shrink\u001b[39m=\u001b[39;49mshrink,\n\u001b[0;32m   1467\u001b[0m         common_norm\u001b[39m=\u001b[39;49mcommon_norm,\n\u001b[0;32m   1468\u001b[0m         common_bins\u001b[39m=\u001b[39;49mcommon_bins,\n\u001b[0;32m   1469\u001b[0m         kde\u001b[39m=\u001b[39;49mkde,\n\u001b[0;32m   1470\u001b[0m         kde_kws\u001b[39m=\u001b[39;49mkde_kws,\n\u001b[0;32m   1471\u001b[0m         color\u001b[39m=\u001b[39;49mcolor,\n\u001b[0;32m   1472\u001b[0m         legend\u001b[39m=\u001b[39;49mlegend,\n\u001b[0;32m   1473\u001b[0m         estimate_kws\u001b[39m=\u001b[39;49mestimate_kws,\n\u001b[0;32m   1474\u001b[0m         line_kws\u001b[39m=\u001b[39;49mline_kws,\n\u001b[0;32m   1475\u001b[0m         \u001b[39m*\u001b[39;49m\u001b[39m*\u001b[39;49mkwargs,\n\u001b[0;32m   1476\u001b[0m     )\n\u001b[0;32m   1478\u001b[0m \u001b[39melse\u001b[39;00m:\n\u001b[0;32m   1480\u001b[0m     p\u001b[39m.\u001b[39mplot_bivariate_histogram(\n\u001b[0;32m   1481\u001b[0m         common_bins\u001b[39m=\u001b[39mcommon_bins,\n\u001b[0;32m   1482\u001b[0m         common_norm\u001b[39m=\u001b[39mcommon_norm,\n\u001b[1;32m   (...)\u001b[0m\n\u001b[0;32m   1492\u001b[0m         \u001b[39m*\u001b[39m\u001b[39m*\u001b[39mkwargs,\n\u001b[0;32m   1493\u001b[0m     )\n",
      "File \u001b[1;32mc:\\Users\\shrut\\AppData\\Local\\Programs\\Python\\Python38\\lib\\site-packages\\seaborn\\distributions.py:676\u001b[0m, in \u001b[0;36m_DistributionPlotter.plot_univariate_histogram\u001b[1;34m(self, multiple, element, fill, common_norm, common_bins, shrink, kde, kde_kws, color, legend, line_kws, estimate_kws, **plot_kws)\u001b[0m\n\u001b[0;32m    672\u001b[0m ax \u001b[39m=\u001b[39m \u001b[39mself\u001b[39m\u001b[39m.\u001b[39m_get_axes(sub_vars)\n\u001b[0;32m    674\u001b[0m \u001b[39m# Needed in some cases to get valid transforms.\u001b[39;00m\n\u001b[0;32m    675\u001b[0m \u001b[39m# Innocuous in other cases?\u001b[39;00m\n\u001b[1;32m--> 676\u001b[0m ax\u001b[39m.\u001b[39;49mautoscale_view()\n\u001b[0;32m    678\u001b[0m \u001b[39m# Convert binwidth from data coordinates to pixels\u001b[39;00m\n\u001b[0;32m    679\u001b[0m pts_x, pts_y \u001b[39m=\u001b[39m \u001b[39m72\u001b[39m \u001b[39m/\u001b[39m ax\u001b[39m.\u001b[39mfigure\u001b[39m.\u001b[39mdpi \u001b[39m*\u001b[39m \u001b[39mabs\u001b[39m(\n\u001b[0;32m    680\u001b[0m     ax\u001b[39m.\u001b[39mtransData\u001b[39m.\u001b[39mtransform([left_edge \u001b[39m+\u001b[39m binwidth] \u001b[39m*\u001b[39m \u001b[39m2\u001b[39m)\n\u001b[0;32m    681\u001b[0m     \u001b[39m-\u001b[39m ax\u001b[39m.\u001b[39mtransData\u001b[39m.\u001b[39mtransform([left_edge] \u001b[39m*\u001b[39m \u001b[39m2\u001b[39m)\n\u001b[0;32m    682\u001b[0m )\n",
      "File \u001b[1;32mc:\\Users\\shrut\\AppData\\Local\\Programs\\Python\\Python38\\lib\\site-packages\\matplotlib\\axes\\_base.py:2851\u001b[0m, in \u001b[0;36m_AxesBase.autoscale_view\u001b[1;34m(self, tight, scalex, scaley)\u001b[0m\n\u001b[0;32m   2844\u001b[0m \u001b[39mif\u001b[39;00m \u001b[39mself\u001b[39m\u001b[39m.\u001b[39muse_sticky_edges:\n\u001b[0;32m   2845\u001b[0m     \u001b[39m# Only iterate over Axes and artists if needed.  The check for\u001b[39;00m\n\u001b[0;32m   2846\u001b[0m     \u001b[39m# ``hasattr(ax, \"_children\")`` is necessary because this can be\u001b[39;00m\n\u001b[0;32m   2847\u001b[0m     \u001b[39m# called very early in the Axes init process (e.g., for twin axes)\u001b[39;00m\n\u001b[0;32m   2848\u001b[0m     \u001b[39m# when these attributes don't even exist yet, in which case\u001b[39;00m\n\u001b[0;32m   2849\u001b[0m     \u001b[39m# `get_children` would raise an AttributeError.\u001b[39;00m\n\u001b[0;32m   2850\u001b[0m     \u001b[39mif\u001b[39;00m \u001b[39mself\u001b[39m\u001b[39m.\u001b[39m_xmargin \u001b[39mand\u001b[39;00m scalex \u001b[39mand\u001b[39;00m \u001b[39mself\u001b[39m\u001b[39m.\u001b[39m_autoscaleXon:\n\u001b[1;32m-> 2851\u001b[0m         x_stickies \u001b[39m=\u001b[39m np\u001b[39m.\u001b[39msort(np\u001b[39m.\u001b[39;49mconcatenate([\n\u001b[0;32m   2852\u001b[0m             artist\u001b[39m.\u001b[39;49msticky_edges\u001b[39m.\u001b[39;49mx\n\u001b[0;32m   2853\u001b[0m             \u001b[39mfor\u001b[39;49;00m ax \u001b[39min\u001b[39;49;00m \u001b[39mself\u001b[39;49m\u001b[39m.\u001b[39;49m_shared_axes[\u001b[39m\"\u001b[39;49m\u001b[39mx\u001b[39;49m\u001b[39m\"\u001b[39;49m]\u001b[39m.\u001b[39;49mget_siblings(\u001b[39mself\u001b[39;49m)\n\u001b[0;32m   2854\u001b[0m             \u001b[39mif\u001b[39;49;00m \u001b[39mhasattr\u001b[39;49m(ax, \u001b[39m\"\u001b[39;49m\u001b[39m_children\u001b[39;49m\u001b[39m\"\u001b[39;49m)\n\u001b[0;32m   2855\u001b[0m             \u001b[39mfor\u001b[39;49;00m artist \u001b[39min\u001b[39;49;00m ax\u001b[39m.\u001b[39;49mget_children()]))\n\u001b[0;32m   2856\u001b[0m     \u001b[39mif\u001b[39;00m \u001b[39mself\u001b[39m\u001b[39m.\u001b[39m_ymargin \u001b[39mand\u001b[39;00m scaley \u001b[39mand\u001b[39;00m \u001b[39mself\u001b[39m\u001b[39m.\u001b[39m_autoscaleYon:\n\u001b[0;32m   2857\u001b[0m         y_stickies \u001b[39m=\u001b[39m np\u001b[39m.\u001b[39msort(np\u001b[39m.\u001b[39mconcatenate([\n\u001b[0;32m   2858\u001b[0m             artist\u001b[39m.\u001b[39msticky_edges\u001b[39m.\u001b[39my\n\u001b[0;32m   2859\u001b[0m             \u001b[39mfor\u001b[39;00m ax \u001b[39min\u001b[39;00m \u001b[39mself\u001b[39m\u001b[39m.\u001b[39m_shared_axes[\u001b[39m\"\u001b[39m\u001b[39my\u001b[39m\u001b[39m\"\u001b[39m]\u001b[39m.\u001b[39mget_siblings(\u001b[39mself\u001b[39m)\n\u001b[0;32m   2860\u001b[0m             \u001b[39mif\u001b[39;00m \u001b[39mhasattr\u001b[39m(ax, \u001b[39m\"\u001b[39m\u001b[39m_children\u001b[39m\u001b[39m\"\u001b[39m)\n\u001b[0;32m   2861\u001b[0m             \u001b[39mfor\u001b[39;00m artist \u001b[39min\u001b[39;00m ax\u001b[39m.\u001b[39mget_children()]))\n",
      "File \u001b[1;32m<__array_function__ internals>:180\u001b[0m, in \u001b[0;36mconcatenate\u001b[1;34m(*args, **kwargs)\u001b[0m\n",
      "\u001b[1;31mKeyboardInterrupt\u001b[0m: "
     ]
    },
    {
     "data": {
      "image/png": "[encoded data removed]",
      "text/plain": [
       "<Figure size 576x432 with 1 Axes>"
      ]
     },
     "metadata": {
      "needs_background": "light"
     },
     "output_type": "display_data"
    }
   ],
   "source": [
    "plt.figure(figsize=(8, 6))\n",
    "sns.histplot(df['Quantity'], kde=True)\n",
    "plt.title('Distribution of Quantity')\n",
    "plt.xlabel('Quantity')\n",
    "plt.ylabel('Frequency')\n",
    "plt.show()"
   ]
  },
  {
   "cell_type": "markdown",
   "metadata": {},
   "source": [
    "Since the target variable - Quantity is right-skewed, we can take the square root of quantity to reduce right-skewness."
   ]
  },
  {
   "cell_type": "code",
   "execution_count": 10,
   "metadata": {},
   "outputs": [
    {
     "name": "stderr",
     "output_type": "stream",
     "text": [
      "c:\\Users\\shrut\\AppData\\Local\\Programs\\Python\\Python38\\lib\\site-packages\\pandas\\core\\arraylike.py:397: RuntimeWarning: invalid value encountered in sqrt\n",
      "  result = getattr(ufunc, method)(*inputs, **kwargs)\n"
     ]
    }
   ],
   "source": [
    "# df['log_Quantity'] = np.log1p(df['Quantity'])\n",
    "df['Sqrt_Quantity'] = np.sqrt(df['Quantity'])"
   ]
  },
  {
   "cell_type": "code",
   "execution_count": 11,
   "metadata": {},
   "outputs": [
    {
     "data": {
      "image/png": "[encoded data removed]",
      "text/plain": [
       "<Figure size 576x432 with 1 Axes>"
      ]
     },
     "metadata": {
      "needs_background": "light"
     },
     "output_type": "display_data"
    }
   ],
   "source": [
    "plt.figure(figsize=(8, 6))\n",
    "sns.histplot(df['Sqrt_Quantity'], kde=True)\n",
    "plt.title('Distribution of Quantity')\n",
    "plt.xlabel('Square Root of Quantity')\n",
    "plt.ylabel('Frequency')\n",
    "plt.show()"
   ]
  },
  {
   "cell_type": "code",
   "execution_count": null,
   "metadata": {},
   "outputs": [],
   "source": [
    "df.dropna(inplace=True)"
   ]
  },
  {
   "cell_type": "code",
   "execution_count": 25,
   "metadata": {},
   "outputs": [],
   "source": [
    "X = df[['CustomerID', 'Year', 'Month', 'Day', 'Hour', 'Minute', 'Second']]\n",
    "y = df['Sqrt_Quantity']"
   ]
  },
  {
   "cell_type": "code",
   "execution_count": 26,
   "metadata": {},
   "outputs": [],
   "source": [
    "X_train, X_test, y_train, y_test = train_test_split(X, y, test_size=0.2, random_state=42)"
   ]
  },
  {
   "cell_type": "markdown",
   "metadata": {},
   "source": [
    "*Checking for Linear Regression*"
   ]
  },
  {
   "cell_type": "code",
   "execution_count": 27,
   "metadata": {},
   "outputs": [
    {
     "data": {
      "text/html": [
       "<style>#sk-container-id-1 {color: black;background-color: white;}#sk-container-id-1 pre{padding: 0;}#sk-container-id-1 div.sk-toggleable {background-color: white;}#sk-container-id-1 label.sk-toggleable__label {cursor: pointer;display: block;width: 100%;margin-bottom: 0;padding: 0.3em;box-sizing: border-box;text-align: center;}#sk-container-id-1 label.sk-toggleable__label-arrow:before {content: \"▸\";float: left;margin-right: 0.25em;color: #696969;}#sk-container-id-1 label.sk-toggleable__label-arrow:hover:before {color: black;}#sk-container-id-1 div.sk-estimator:hover label.sk-toggleable__label-arrow:before {color: black;}#sk-container-id-1 div.sk-toggleable__content {max-height: 0;max-width: 0;overflow: hidden;text-align: left;background-color: #f0f8ff;}#sk-container-id-1 div.sk-toggleable__content pre {margin: 0.2em;color: black;border-radius: 0.25em;background-color: #f0f8ff;}#sk-container-id-1 input.sk-toggleable__control:checked~div.sk-toggleable__content {max-height: 200px;max-width: 100%;overflow: auto;}#sk-container-id-1 input.sk-toggleable__control:checked~label.sk-toggleable__label-arrow:before {content: \"▾\";}#sk-container-id-1 div.sk-estimator input.sk-toggleable__control:checked~label.sk-toggleable__label {background-color: #d4ebff;}#sk-container-id-1 div.sk-label input.sk-toggleable__control:checked~label.sk-toggleable__label {background-color: #d4ebff;}#sk-container-id-1 input.sk-hidden--visually {border: 0;clip: rect(1px 1px 1px 1px);clip: rect(1px, 1px, 1px, 1px);height: 1px;margin: -1px;overflow: hidden;padding: 0;position: absolute;width: 1px;}#sk-container-id-1 div.sk-estimator {font-family: monospace;background-color: #f0f8ff;border: 1px dotted black;border-radius: 0.25em;box-sizing: border-box;margin-bottom: 0.5em;}#sk-container-id-1 div.sk-estimator:hover {background-color: #d4ebff;}#sk-container-id-1 div.sk-parallel-item::after {content: \"\";width: 100%;border-bottom: 1px solid gray;flex-grow: 1;}#sk-container-id-1 div.sk-label:hover label.sk-toggleable__label {background-color: #d4ebff;}#sk-container-id-1 div.sk-serial::before {content: \"\";position: absolute;border-left: 1px solid gray;box-sizing: border-box;top: 0;bottom: 0;left: 50%;z-index: 0;}#sk-container-id-1 div.sk-serial {display: flex;flex-direction: column;align-items: center;background-color: white;padding-right: 0.2em;padding-left: 0.2em;position: relative;}#sk-container-id-1 div.sk-item {position: relative;z-index: 1;}#sk-container-id-1 div.sk-parallel {display: flex;align-items: stretch;justify-content: center;background-color: white;position: relative;}#sk-container-id-1 div.sk-item::before, #sk-container-id-1 div.sk-parallel-item::before {content: \"\";position: absolute;border-left: 1px solid gray;box-sizing: border-box;top: 0;bottom: 0;left: 50%;z-index: -1;}#sk-container-id-1 div.sk-parallel-item {display: flex;flex-direction: column;z-index: 1;position: relative;background-color: white;}#sk-container-id-1 div.sk-parallel-item:first-child::after {align-self: flex-end;width: 50%;}#sk-container-id-1 div.sk-parallel-item:last-child::after {align-self: flex-start;width: 50%;}#sk-container-id-1 div.sk-parallel-item:only-child::after {width: 0;}#sk-container-id-1 div.sk-dashed-wrapped {border: 1px dashed gray;margin: 0 0.4em 0.5em 0.4em;box-sizing: border-box;padding-bottom: 0.4em;background-color: white;}#sk-container-id-1 div.sk-label label {font-family: monospace;font-weight: bold;display: inline-block;line-height: 1.2em;}#sk-container-id-1 div.sk-label-container {text-align: center;}#sk-container-id-1 div.sk-container {/* jupyter's `normalize.less` sets `[hidden] { display: none; }` but bootstrap.min.css set `[hidden] { display: none !important; }` so we also need the `!important` here to be able to override the default hidden behavior on the sphinx rendered scikit-learn.org. See: https://github.com/scikit-learn/scikit-learn/issues/21755 */display: inline-block !important;position: relative;}#sk-container-id-1 div.sk-text-repr-fallback {display: none;}</style><div id=\"sk-container-id-1\" class=\"sk-top-container\"><div class=\"sk-text-repr-fallback\"><pre>LinearRegression()</pre><b>In a Jupyter environment, please rerun this cell to show the HTML representation or trust the notebook. <br />On GitHub, the HTML representation is unable to render, please try loading this page with nbviewer.org.</b></div><div class=\"sk-container\" hidden><div class=\"sk-item\"><div class=\"sk-estimator sk-toggleable\"><input class=\"sk-toggleable__control sk-hidden--visually\" id=\"sk-estimator-id-1\" type=\"checkbox\" checked><label for=\"sk-estimator-id-1\" class=\"sk-toggleable__label sk-toggleable__label-arrow\">LinearRegression</label><div class=\"sk-toggleable__content\"><pre>LinearRegression()</pre></div></div></div></div></div>"
      ],
      "text/plain": [
       "LinearRegression()"
      ]
     },
     "execution_count": 27,
     "metadata": {},
     "output_type": "execute_result"
    }
   ],
   "source": [
    "model = linear_model.LinearRegression()\n",
    "model.fit(X_train, y_train)"
   ]
  },
  {
   "cell_type": "code",
   "execution_count": 28,
   "metadata": {},
   "outputs": [],
   "source": [
    "y_pred = model.predict(X_test)"
   ]
  },
  {
   "cell_type": "code",
   "execution_count": 29,
   "metadata": {},
   "outputs": [
    {
     "name": "stdout",
     "output_type": "stream",
     "text": [
      "R-squared (R²): 0.04648938856708529\n",
      "Mean Squared Error (MSE): 0.8862940648912804\n",
      "Root Mean Squared Error (RMSE): 0.9414319226005035\n"
     ]
    }
   ],
   "source": [
    "r2 = r2_score(y_test, y_pred)\n",
    "mse = mean_squared_error(y_test, y_pred)\n",
    "rmse = np.sqrt(mse)\n",
    "\n",
    "print(\"R-squared (R²):\", r2)\n",
    "print(\"Mean Squared Error (MSE):\", mse)\n",
    "print(\"Root Mean Squared Error (RMSE):\", rmse)"
   ]
  },
  {
   "cell_type": "markdown",
   "metadata": {},
   "source": [
    "Since linear regression is not capturing the underlying patterns, I will try to use regularization and see how that works."
   ]
  },
  {
   "cell_type": "code",
   "execution_count": 30,
   "metadata": {},
   "outputs": [
    {
     "name": "stderr",
     "output_type": "stream",
     "text": [
      "c:\\Users\\shrut\\AppData\\Local\\Programs\\Python\\Python38\\lib\\site-packages\\sklearn\\linear_model\\_ridge.py:212: LinAlgWarning: Ill-conditioned matrix (rcond=1.24786e-17): result may not be accurate.\n",
      "  return linalg.solve(A, Xy, assume_a=\"pos\", overwrite_a=True).T\n"
     ]
    }
   ],
   "source": [
    "ridge_model = linear_model.Ridge(alpha=0.00001)\n",
    "ridge_model.fit(X_train, y_train)\n",
    "ridge_predictions = ridge_model.predict(X_test)"
   ]
  },
  {
   "cell_type": "code",
   "execution_count": 31,
   "metadata": {},
   "outputs": [],
   "source": [
    "lasso_model = linear_model.Lasso(alpha=1.0)\n",
    "lasso_model.fit(X_train, y_train)\n",
    "lasso_predictions = lasso_model.predict(X_test)"
   ]
  },
  {
   "cell_type": "code",
   "execution_count": 32,
   "metadata": {},
   "outputs": [
    {
     "name": "stdout",
     "output_type": "stream",
     "text": [
      "Ridge Model:\n",
      "R-squared (R²): 0.046489388567166\n",
      "Mean Squared Error (MSE): 0.8862940648912054\n",
      "Root Mean Squared Error (RMSE): 0.9414319226004637\n",
      "Lasso Model:\n",
      "R-squared (R²): 0.02475471629666237\n",
      "Mean Squared Error (MSE): 0.9064965784287904\n",
      "Root Mean Squared Error (RMSE): 0.9521011387603685\n"
     ]
    }
   ],
   "source": [
    "def evaluate_model(model, name):\n",
    "    predictions = model.predict(X_test)\n",
    "    r2 = r2_score(y_test, predictions)\n",
    "    mse = mean_squared_error(y_test, predictions)\n",
    "    rmse = np.sqrt(mse)\n",
    "    print(f\"{name} Model:\")\n",
    "    print(f\"R-squared (R²): {r2}\")\n",
    "    print(f\"Mean Squared Error (MSE): {mse}\")\n",
    "    print(f\"Root Mean Squared Error (RMSE): {rmse}\")\n",
    "\n",
    "evaluate_model(ridge_model, \"Ridge\")\n",
    "evaluate_model(lasso_model, \"Lasso\")"
   ]
  },
  {
   "cell_type": "code",
   "execution_count": 33,
   "metadata": {},
   "outputs": [
    {
     "name": "stdout",
     "output_type": "stream",
     "text": [
      "Predicted Quantity: 3.80\n"
     ]
    }
   ],
   "source": [
    "new_data_point = pd.DataFrame({'CustomerID': [12000.0], 'Year': [2020], 'Month': [10], 'Day': [20], 'Hour': [0], 'Minute': [30], 'Second':[30]})\n",
    "predicted_quantity = ridge_model.predict(new_data_point)\n",
    "\n",
    "print(f\"Predicted Quantity: {predicted_quantity[0]:.2f}\")"
   ]
  },
  {
   "cell_type": "code",
   "execution_count": 34,
   "metadata": {},
   "outputs": [
    {
     "name": "stdout",
     "output_type": "stream",
     "text": [
      "Predicted Quantity: 2.45\n"
     ]
    }
   ],
   "source": [
    "new_data_point = pd.DataFrame({'CustomerID': [12000.0], 'Year': [2020], 'Month': [10], 'Day': [20], 'Hour': [0], 'Minute': [30], 'Second':[30]})\n",
    "predicted_quantity = lasso_model.predict(new_data_point)\n",
    "\n",
    "print(f\"Predicted Quantity: {predicted_quantity[0]:.2f}\")"
   ]
  },
  {
   "cell_type": "code",
   "execution_count": 35,
   "metadata": {},
   "outputs": [
    {
     "name": "stdout",
     "output_type": "stream",
     "text": [
      "Predicted Quantity: 3.80\n"
     ]
    }
   ],
   "source": [
    "new_data_point = pd.DataFrame({'CustomerID': [12000.0], 'Year': [2020], 'Month': [10], 'Day': [20], 'Hour': [0], 'Minute': [30], 'Second':[30]})\n",
    "predicted_quantity = model.predict(new_data_point)\n",
    "\n",
    "print(f\"Predicted Quantity: {predicted_quantity[0]:.2f}\")"
   ]
  },
  {
   "cell_type": "markdown",
   "metadata": {},
   "source": [
    "Seems like linear regression models are not capturing the underlying patterns in the data. We can try using non-linear models."
   ]
  },
  {
   "cell_type": "markdown",
   "metadata": {},
   "source": [
    "*Checking Random Forest*"
   ]
  },
  {
   "cell_type": "code",
   "execution_count": 36,
   "metadata": {},
   "outputs": [],
   "source": [
    "rf_model = RandomForestRegressor(n_estimators=100, max_depth=10, min_samples_leaf=4, random_state=42)\n",
    "\n",
    "kf = KFold(n_splits=5, shuffle=True, random_state=42)\n",
    "\n",
    "mse_scores = []\n",
    "r2_scores = []\n",
    "\n",
    "for train_idx, test_idx in kf.split(X):\n",
    "    X_train, X_test = X.iloc[train_idx], X.iloc[test_idx]\n",
    "    y_train, y_test = y.iloc[train_idx], y.iloc[test_idx]\n",
    "\n",
    "    rf_model.fit(X_train, y_train)\n",
    "\n",
    "    y_pred = rf_model.predict(X_test)\n",
    "\n",
    "    mse_fold = mean_squared_error(y_test, y_pred)\n",
    "    r2_fold = r2_score(y_test, y_pred)\n",
    "\n",
    "    mse_scores.append(mse_fold)\n",
    "    r2_scores.append(r2_fold)"
   ]
  },
  {
   "cell_type": "code",
   "execution_count": 37,
   "metadata": {},
   "outputs": [
    {
     "name": "stdout",
     "output_type": "stream",
     "text": [
      "Mean Squared Error (Cross-Validation): 0.71\n",
      "R-squared (Cross-Validation): 0.23\n"
     ]
    }
   ],
   "source": [
    "mean_mse = sum(mse_scores) / len(mse_scores)\n",
    "mean_r2 = sum(r2_scores) / len(r2_scores)\n",
    "\n",
    "print(f\"Mean Squared Error (Cross-Validation): {mean_mse:.2f}\")\n",
    "print(f\"R-squared (Cross-Validation): {mean_r2:.2f}\")"
   ]
  },
  {
   "cell_type": "code",
   "execution_count": 38,
   "metadata": {},
   "outputs": [
    {
     "name": "stdout",
     "output_type": "stream",
     "text": [
      "Predicted Quantity: 2.71\n"
     ]
    }
   ],
   "source": [
    "new_data_point = pd.DataFrame({'CustomerID': [12000.0], 'Year': [2020], 'Month': [10], 'Day': [20], 'Hour': [0], 'Minute': [30], 'Second':[30]})\n",
    "predicted_quantity = rf_model.predict(new_data_point)\n",
    "\n",
    "print(f\"Predicted Quantity: {predicted_quantity[0]:.2f}\")"
   ]
  },
  {
   "cell_type": "markdown",
   "metadata": {},
   "source": [
    "*Checking Gradient Boosting Regressor*"
   ]
  },
  {
   "cell_type": "code",
   "execution_count": 39,
   "metadata": {},
   "outputs": [],
   "source": [
    "gb_model = GradientBoostingRegressor(n_estimators=1000, learning_rate = 0.1, random_state=42)\n",
    "\n",
    "kf = KFold(n_splits=5, shuffle=True, random_state=42)\n",
    "\n",
    "mse_scores = []\n",
    "r2_scores = []\n",
    "\n",
    "for train_idx, test_idx in kf.split(X):\n",
    "    X_train, X_test = X.iloc[train_idx], X.iloc[test_idx]\n",
    "    y_train, y_test = y.iloc[train_idx], y.iloc[test_idx]\n",
    "\n",
    "    gb_model.fit(X_train, y_train)\n",
    "\n",
    "    y_pred = gb_model.predict(X_test)\n",
    "\n",
    "    mse_fold = mean_squared_error(y_test, y_pred)\n",
    "    r2_fold = r2_score(y_test, y_pred)\n",
    "\n",
    "    mse_scores.append(mse_fold)\n",
    "    r2_scores.append(r2_fold)"
   ]
  },
  {
   "cell_type": "code",
   "execution_count": 40,
   "metadata": {},
   "outputs": [
    {
     "name": "stdout",
     "output_type": "stream",
     "text": [
      "Mean Squared Error (Cross-Validation): 0.65\n",
      "R-squared (Cross-Validation): 0.30\n"
     ]
    }
   ],
   "source": [
    "mean_mse = sum(mse_scores) / len(mse_scores)\n",
    "mean_r2 = sum(r2_scores) / len(r2_scores)\n",
    "\n",
    "print(f\"Mean Squared Error (Cross-Validation): {mean_mse:.2f}\")\n",
    "print(f\"R-squared (Cross-Validation): {mean_r2:.2f}\")"
   ]
  },
  {
   "cell_type": "code",
   "execution_count": 41,
   "metadata": {},
   "outputs": [
    {
     "name": "stdout",
     "output_type": "stream",
     "text": [
      "Predicted Quantity: 2.99\n"
     ]
    }
   ],
   "source": [
    "new_data_point = pd.DataFrame({'CustomerID': [12000.0], 'Year': [2020], 'Month': [10], 'Day': [20], 'Hour': [0], 'Minute': [30], 'Second':[30]})\n",
    "predicted_quantity = gb_model.predict(new_data_point)\n",
    "\n",
    "print(f\"Predicted Quantity: {predicted_quantity[0]:.2f}\")"
   ]
  },
  {
   "cell_type": "markdown",
   "metadata": {},
   "source": []
  }
 ],
 "metadata": {
  "kernelspec": {
   "display_name": "Python 3",
   "language": "python",
   "name": "python3"
  },
  "language_info": {
   "codemirror_mode": {
    "name": "ipython",
    "version": 3
   },
   "file_extension": ".py",
   "mimetype": "text/x-python",
   "name": "python",
   "nbconvert_exporter": "python",
   "pygments_lexer": "ipython3",
   "version": "3.8.4"
  }
 },
 "nbformat": 4,
 "nbformat_minor": 2
}
